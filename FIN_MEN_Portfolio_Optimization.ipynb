{
  "nbformat": 4,
  "nbformat_minor": 0,
  "metadata": {
    "colab": {
      "provenance": []
    },
    "kernelspec": {
      "name": "python3",
      "display_name": "Python 3"
    },
    "language_info": {
      "name": "python"
    }
  },
  "cells": [
    {
      "cell_type": "code",
      "execution_count": 17,
      "metadata": {
        "id": "Ow-EFKMkwNWx"
      },
      "outputs": [],
      "source": [
        "import numpy as np\n",
        "import pandas as pd\n",
        "import datetime as dt\n",
        "import yfinance as yf # Dynamic data from stock market\n",
        "import matplotlib.pyplot as plt\n",
        "from scipy.optimize import minimize"
      ]
    },
    {
      "cell_type": "markdown",
      "source": [
        "## Define Tickers and Time Range"
      ],
      "metadata": {
        "id": "oPR_ljsMwLAC"
      }
    },
    {
      "cell_type": "code",
      "source": [
        "# Choose up to 40 stock tickers in the portfolio\n",
        "tickers = ['AAL', 'ABNB', 'BRK-B', 'BLK', 'TTWO','ILTB']\n",
        "end_date = dt.date(2023, 9, 1)\n",
        "start_date = end_date - dt.timedelta(days = 1*365)"
      ],
      "metadata": {
        "id": "0JBmIpue6ZBj"
      },
      "execution_count": 6,
      "outputs": []
    },
    {
      "cell_type": "markdown",
      "source": [
        "## Download Adjusted Close Prices"
      ],
      "metadata": {
        "id": "M37JWNYHwdTR"
      }
    },
    {
      "cell_type": "code",
      "source": [
        "adj_close_df = pd.DataFrame()\n",
        "for ticker in tickers:\n",
        "    data = yf.download(ticker, start = start_date,end = end_date)\n",
        "    adj_close_df[ticker] = data['Adj Close']"
      ],
      "metadata": {
        "colab": {
          "base_uri": "https://localhost:8080/"
        },
        "id": "A_nt12RZ7dDU",
        "outputId": "b05fd973-41b8-4d18-ce40-7d8294d8eb06"
      },
      "execution_count": 7,
      "outputs": [
        {
          "output_type": "stream",
          "name": "stdout",
          "text": [
            "[*********************100%%**********************]  1 of 1 completed\n",
            "[*********************100%%**********************]  1 of 1 completed\n",
            "[*********************100%%**********************]  1 of 1 completed\n",
            "[*********************100%%**********************]  1 of 1 completed\n",
            "[*********************100%%**********************]  1 of 1 completed\n",
            "[*********************100%%**********************]  1 of 1 completed\n"
          ]
        }
      ]
    },
    {
      "cell_type": "code",
      "source": [
        "# Calculate Lognormal Returns\n",
        "log_returns = np.log(adj_close_df / adj_close_df.shift(1))\n",
        "log_returns = log_returns.dropna()"
      ],
      "metadata": {
        "id": "auMegJ0g8Qj_"
      },
      "execution_count": 8,
      "outputs": []
    },
    {
      "cell_type": "markdown",
      "source": [
        "## Calculate Covariance Matrix"
      ],
      "metadata": {
        "id": "efzBRIunwvR6"
      }
    },
    {
      "cell_type": "code",
      "source": [
        "# Multiply by the number of trading days per year\n",
        "cov_matrix = log_returns.cov() *252\n",
        "print(cov_matrix)"
      ],
      "metadata": {
        "id": "b2JCcrod8ZCL",
        "colab": {
          "base_uri": "https://localhost:8080/"
        },
        "outputId": "b595dcf6-25e0-4ef8-e0ec-60982f2f2551"
      },
      "execution_count": 9,
      "outputs": [
        {
          "output_type": "stream",
          "name": "stdout",
          "text": [
            "            AAL      ABNB     BRK-B       BLK      TTWO      ILTB\n",
            "AAL    0.156670  0.095234  0.034922  0.055722  0.043072  0.009624\n",
            "ABNB   0.095234  0.237412  0.037668  0.064393  0.072603  0.013278\n",
            "BRK-B  0.034922  0.037668  0.033752  0.039293  0.024883  0.004650\n",
            "BLK    0.055722  0.064393  0.039293  0.088245  0.040963  0.015555\n",
            "TTWO   0.043072  0.072603  0.024883  0.040963  0.124983  0.007616\n",
            "ILTB   0.009624  0.013278  0.004650  0.015555  0.007616  0.024456\n"
          ]
        }
      ]
    },
    {
      "cell_type": "code",
      "source": [
        "log_returns.cov()"
      ],
      "metadata": {
        "colab": {
          "base_uri": "https://localhost:8080/",
          "height": 238
        },
        "id": "TCphYT3hRxY6",
        "outputId": "96eca377-7b7e-43c5-b505-53fd6b771400"
      },
      "execution_count": 10,
      "outputs": [
        {
          "output_type": "execute_result",
          "data": {
            "text/plain": [
              "            AAL      ABNB     BRK-B       BLK      TTWO      ILTB\n",
              "AAL    0.000622  0.000378  0.000139  0.000221  0.000171  0.000038\n",
              "ABNB   0.000378  0.000942  0.000149  0.000256  0.000288  0.000053\n",
              "BRK-B  0.000139  0.000149  0.000134  0.000156  0.000099  0.000018\n",
              "BLK    0.000221  0.000256  0.000156  0.000350  0.000163  0.000062\n",
              "TTWO   0.000171  0.000288  0.000099  0.000163  0.000496  0.000030\n",
              "ILTB   0.000038  0.000053  0.000018  0.000062  0.000030  0.000097"
            ],
            "text/html": [
              "\n",
              "  <div id=\"df-0662ace1-df67-4316-9319-40e44e895bd4\" class=\"colab-df-container\">\n",
              "    <div>\n",
              "<style scoped>\n",
              "    .dataframe tbody tr th:only-of-type {\n",
              "        vertical-align: middle;\n",
              "    }\n",
              "\n",
              "    .dataframe tbody tr th {\n",
              "        vertical-align: top;\n",
              "    }\n",
              "\n",
              "    .dataframe thead th {\n",
              "        text-align: right;\n",
              "    }\n",
              "</style>\n",
              "<table border=\"1\" class=\"dataframe\">\n",
              "  <thead>\n",
              "    <tr style=\"text-align: right;\">\n",
              "      <th></th>\n",
              "      <th>AAL</th>\n",
              "      <th>ABNB</th>\n",
              "      <th>BRK-B</th>\n",
              "      <th>BLK</th>\n",
              "      <th>TTWO</th>\n",
              "      <th>ILTB</th>\n",
              "    </tr>\n",
              "  </thead>\n",
              "  <tbody>\n",
              "    <tr>\n",
              "      <th>AAL</th>\n",
              "      <td>0.000622</td>\n",
              "      <td>0.000378</td>\n",
              "      <td>0.000139</td>\n",
              "      <td>0.000221</td>\n",
              "      <td>0.000171</td>\n",
              "      <td>0.000038</td>\n",
              "    </tr>\n",
              "    <tr>\n",
              "      <th>ABNB</th>\n",
              "      <td>0.000378</td>\n",
              "      <td>0.000942</td>\n",
              "      <td>0.000149</td>\n",
              "      <td>0.000256</td>\n",
              "      <td>0.000288</td>\n",
              "      <td>0.000053</td>\n",
              "    </tr>\n",
              "    <tr>\n",
              "      <th>BRK-B</th>\n",
              "      <td>0.000139</td>\n",
              "      <td>0.000149</td>\n",
              "      <td>0.000134</td>\n",
              "      <td>0.000156</td>\n",
              "      <td>0.000099</td>\n",
              "      <td>0.000018</td>\n",
              "    </tr>\n",
              "    <tr>\n",
              "      <th>BLK</th>\n",
              "      <td>0.000221</td>\n",
              "      <td>0.000256</td>\n",
              "      <td>0.000156</td>\n",
              "      <td>0.000350</td>\n",
              "      <td>0.000163</td>\n",
              "      <td>0.000062</td>\n",
              "    </tr>\n",
              "    <tr>\n",
              "      <th>TTWO</th>\n",
              "      <td>0.000171</td>\n",
              "      <td>0.000288</td>\n",
              "      <td>0.000099</td>\n",
              "      <td>0.000163</td>\n",
              "      <td>0.000496</td>\n",
              "      <td>0.000030</td>\n",
              "    </tr>\n",
              "    <tr>\n",
              "      <th>ILTB</th>\n",
              "      <td>0.000038</td>\n",
              "      <td>0.000053</td>\n",
              "      <td>0.000018</td>\n",
              "      <td>0.000062</td>\n",
              "      <td>0.000030</td>\n",
              "      <td>0.000097</td>\n",
              "    </tr>\n",
              "  </tbody>\n",
              "</table>\n",
              "</div>\n",
              "    <div class=\"colab-df-buttons\">\n",
              "\n",
              "  <div class=\"colab-df-container\">\n",
              "    <button class=\"colab-df-convert\" onclick=\"convertToInteractive('df-0662ace1-df67-4316-9319-40e44e895bd4')\"\n",
              "            title=\"Convert this dataframe to an interactive table.\"\n",
              "            style=\"display:none;\">\n",
              "\n",
              "  <svg xmlns=\"http://www.w3.org/2000/svg\" height=\"24px\" viewBox=\"0 -960 960 960\">\n",
              "    <path d=\"M120-120v-720h720v720H120Zm60-500h600v-160H180v160Zm220 220h160v-160H400v160Zm0 220h160v-160H400v160ZM180-400h160v-160H180v160Zm440 0h160v-160H620v160ZM180-180h160v-160H180v160Zm440 0h160v-160H620v160Z\"/>\n",
              "  </svg>\n",
              "    </button>\n",
              "\n",
              "  <style>\n",
              "    .colab-df-container {\n",
              "      display:flex;\n",
              "      gap: 12px;\n",
              "    }\n",
              "\n",
              "    .colab-df-convert {\n",
              "      background-color: #E8F0FE;\n",
              "      border: none;\n",
              "      border-radius: 50%;\n",
              "      cursor: pointer;\n",
              "      display: none;\n",
              "      fill: #1967D2;\n",
              "      height: 32px;\n",
              "      padding: 0 0 0 0;\n",
              "      width: 32px;\n",
              "    }\n",
              "\n",
              "    .colab-df-convert:hover {\n",
              "      background-color: #E2EBFA;\n",
              "      box-shadow: 0px 1px 2px rgba(60, 64, 67, 0.3), 0px 1px 3px 1px rgba(60, 64, 67, 0.15);\n",
              "      fill: #174EA6;\n",
              "    }\n",
              "\n",
              "    .colab-df-buttons div {\n",
              "      margin-bottom: 4px;\n",
              "    }\n",
              "\n",
              "    [theme=dark] .colab-df-convert {\n",
              "      background-color: #3B4455;\n",
              "      fill: #D2E3FC;\n",
              "    }\n",
              "\n",
              "    [theme=dark] .colab-df-convert:hover {\n",
              "      background-color: #434B5C;\n",
              "      box-shadow: 0px 1px 3px 1px rgba(0, 0, 0, 0.15);\n",
              "      filter: drop-shadow(0px 1px 2px rgba(0, 0, 0, 0.3));\n",
              "      fill: #FFFFFF;\n",
              "    }\n",
              "  </style>\n",
              "\n",
              "    <script>\n",
              "      const buttonEl =\n",
              "        document.querySelector('#df-0662ace1-df67-4316-9319-40e44e895bd4 button.colab-df-convert');\n",
              "      buttonEl.style.display =\n",
              "        google.colab.kernel.accessAllowed ? 'block' : 'none';\n",
              "\n",
              "      async function convertToInteractive(key) {\n",
              "        const element = document.querySelector('#df-0662ace1-df67-4316-9319-40e44e895bd4');\n",
              "        const dataTable =\n",
              "          await google.colab.kernel.invokeFunction('convertToInteractive',\n",
              "                                                    [key], {});\n",
              "        if (!dataTable) return;\n",
              "\n",
              "        const docLinkHtml = 'Like what you see? Visit the ' +\n",
              "          '<a target=\"_blank\" href=https://colab.research.google.com/notebooks/data_table.ipynb>data table notebook</a>'\n",
              "          + ' to learn more about interactive tables.';\n",
              "        element.innerHTML = '';\n",
              "        dataTable['output_type'] = 'display_data';\n",
              "        await google.colab.output.renderOutput(dataTable, element);\n",
              "        const docLink = document.createElement('div');\n",
              "        docLink.innerHTML = docLinkHtml;\n",
              "        element.appendChild(docLink);\n",
              "      }\n",
              "    </script>\n",
              "  </div>\n",
              "\n",
              "\n",
              "<div id=\"df-cd03b937-079f-4662-b9c5-0a894d3e5390\">\n",
              "  <button class=\"colab-df-quickchart\" onclick=\"quickchart('df-cd03b937-079f-4662-b9c5-0a894d3e5390')\"\n",
              "            title=\"Suggest charts\"\n",
              "            style=\"display:none;\">\n",
              "\n",
              "<svg xmlns=\"http://www.w3.org/2000/svg\" height=\"24px\"viewBox=\"0 0 24 24\"\n",
              "     width=\"24px\">\n",
              "    <g>\n",
              "        <path d=\"M19 3H5c-1.1 0-2 .9-2 2v14c0 1.1.9 2 2 2h14c1.1 0 2-.9 2-2V5c0-1.1-.9-2-2-2zM9 17H7v-7h2v7zm4 0h-2V7h2v10zm4 0h-2v-4h2v4z\"/>\n",
              "    </g>\n",
              "</svg>\n",
              "  </button>\n",
              "\n",
              "<style>\n",
              "  .colab-df-quickchart {\n",
              "      --bg-color: #E8F0FE;\n",
              "      --fill-color: #1967D2;\n",
              "      --hover-bg-color: #E2EBFA;\n",
              "      --hover-fill-color: #174EA6;\n",
              "      --disabled-fill-color: #AAA;\n",
              "      --disabled-bg-color: #DDD;\n",
              "  }\n",
              "\n",
              "  [theme=dark] .colab-df-quickchart {\n",
              "      --bg-color: #3B4455;\n",
              "      --fill-color: #D2E3FC;\n",
              "      --hover-bg-color: #434B5C;\n",
              "      --hover-fill-color: #FFFFFF;\n",
              "      --disabled-bg-color: #3B4455;\n",
              "      --disabled-fill-color: #666;\n",
              "  }\n",
              "\n",
              "  .colab-df-quickchart {\n",
              "    background-color: var(--bg-color);\n",
              "    border: none;\n",
              "    border-radius: 50%;\n",
              "    cursor: pointer;\n",
              "    display: none;\n",
              "    fill: var(--fill-color);\n",
              "    height: 32px;\n",
              "    padding: 0;\n",
              "    width: 32px;\n",
              "  }\n",
              "\n",
              "  .colab-df-quickchart:hover {\n",
              "    background-color: var(--hover-bg-color);\n",
              "    box-shadow: 0 1px 2px rgba(60, 64, 67, 0.3), 0 1px 3px 1px rgba(60, 64, 67, 0.15);\n",
              "    fill: var(--button-hover-fill-color);\n",
              "  }\n",
              "\n",
              "  .colab-df-quickchart-complete:disabled,\n",
              "  .colab-df-quickchart-complete:disabled:hover {\n",
              "    background-color: var(--disabled-bg-color);\n",
              "    fill: var(--disabled-fill-color);\n",
              "    box-shadow: none;\n",
              "  }\n",
              "\n",
              "  .colab-df-spinner {\n",
              "    border: 2px solid var(--fill-color);\n",
              "    border-color: transparent;\n",
              "    border-bottom-color: var(--fill-color);\n",
              "    animation:\n",
              "      spin 1s steps(1) infinite;\n",
              "  }\n",
              "\n",
              "  @keyframes spin {\n",
              "    0% {\n",
              "      border-color: transparent;\n",
              "      border-bottom-color: var(--fill-color);\n",
              "      border-left-color: var(--fill-color);\n",
              "    }\n",
              "    20% {\n",
              "      border-color: transparent;\n",
              "      border-left-color: var(--fill-color);\n",
              "      border-top-color: var(--fill-color);\n",
              "    }\n",
              "    30% {\n",
              "      border-color: transparent;\n",
              "      border-left-color: var(--fill-color);\n",
              "      border-top-color: var(--fill-color);\n",
              "      border-right-color: var(--fill-color);\n",
              "    }\n",
              "    40% {\n",
              "      border-color: transparent;\n",
              "      border-right-color: var(--fill-color);\n",
              "      border-top-color: var(--fill-color);\n",
              "    }\n",
              "    60% {\n",
              "      border-color: transparent;\n",
              "      border-right-color: var(--fill-color);\n",
              "    }\n",
              "    80% {\n",
              "      border-color: transparent;\n",
              "      border-right-color: var(--fill-color);\n",
              "      border-bottom-color: var(--fill-color);\n",
              "    }\n",
              "    90% {\n",
              "      border-color: transparent;\n",
              "      border-bottom-color: var(--fill-color);\n",
              "    }\n",
              "  }\n",
              "</style>\n",
              "\n",
              "  <script>\n",
              "    async function quickchart(key) {\n",
              "      const quickchartButtonEl =\n",
              "        document.querySelector('#' + key + ' button');\n",
              "      quickchartButtonEl.disabled = true;  // To prevent multiple clicks.\n",
              "      quickchartButtonEl.classList.add('colab-df-spinner');\n",
              "      try {\n",
              "        const charts = await google.colab.kernel.invokeFunction(\n",
              "            'suggestCharts', [key], {});\n",
              "      } catch (error) {\n",
              "        console.error('Error during call to suggestCharts:', error);\n",
              "      }\n",
              "      quickchartButtonEl.classList.remove('colab-df-spinner');\n",
              "      quickchartButtonEl.classList.add('colab-df-quickchart-complete');\n",
              "    }\n",
              "    (() => {\n",
              "      let quickchartButtonEl =\n",
              "        document.querySelector('#df-cd03b937-079f-4662-b9c5-0a894d3e5390 button');\n",
              "      quickchartButtonEl.style.display =\n",
              "        google.colab.kernel.accessAllowed ? 'block' : 'none';\n",
              "    })();\n",
              "  </script>\n",
              "</div>\n",
              "    </div>\n",
              "  </div>\n"
            ]
          },
          "metadata": {},
          "execution_count": 10
        }
      ]
    },
    {
      "cell_type": "code",
      "source": [
        "# Define Portfolio Performance Metrics\n",
        "\n",
        "def standard_deviation(weights, cov_matrix):\n",
        "    variance = weights.T @ cov_matrix @ weights\n",
        "    return np.sqrt(variance)\n",
        "\n",
        "def expected_return(weights, log_returns):\n",
        "    return np.sum(log_returns.mean()*weights)*252\n",
        "\n",
        "def sharpe_ratio(weights, log_returns, cov_matrix, risk_free_rate):\n",
        "    return (expected_return(weights, log_returns) - risk_free_rate) / standard_deviation(weights, cov_matrix)"
      ],
      "metadata": {
        "id": "yH7zQhLL9j5z"
      },
      "execution_count": 11,
      "outputs": []
    },
    {
      "cell_type": "markdown",
      "source": [
        "## Portfolio Optimization"
      ],
      "metadata": {
        "id": "sMUW3AFfxprI"
      }
    },
    {
      "cell_type": "code",
      "source": [
        "risk_free_rate = .044\n",
        "# We could use external API from https://www.federalreserve.gov/ instead\n",
        "\n",
        "def neg_sharpe_ratio(weights, log_returns, cov_matrix, risk_free_rate):\n",
        "    return  1 / sharpe_ratio(weights, log_returns, cov_matrix, risk_free_rate)\n",
        "\n",
        "constraints = {'type': 'eq', 'fun': lambda weights: np.sum(weights) - 1}\n",
        "bounds = [(0, 1) for _ in range(len(tickers))]\n",
        "initial_weights = np.array([1/len(tickers)]*len(tickers))\n",
        "\n",
        "optimized_results = minimize(neg_sharpe_ratio, initial_weights, args=(log_returns, cov_matrix, risk_free_rate), method='SLSQP', constraints=constraints, bounds=bounds)"
      ],
      "metadata": {
        "id": "uWUjEFsh_SHe"
      },
      "execution_count": 16,
      "outputs": []
    },
    {
      "cell_type": "code",
      "source": [
        "# Analyze the Optimal Portfolio\n",
        "\n",
        "optimal_weights = optimized_results.x\n",
        "old_weights = np.array([1/len(tickers)] * len(tickers))\n",
        "\n",
        "print(\"Optimal Weights:\")\n",
        "for ticker, weight in zip(tickers, optimal_weights):\n",
        "    print(f\"{ticker}: {weight:.4f}\")\n",
        "\n",
        "old_portfolio_return = expected_return(old_weights, log_returns)\n",
        "optimal_portfolio_return = expected_return(optimal_weights, log_returns)\n",
        "old_portfolio_volatility = standard_deviation(old_weights, cov_matrix)\n",
        "optimal_portfolio_volatility = standard_deviation(optimal_weights, cov_matrix)\n",
        "old_sharpe_ratio = sharpe_ratio(old_weights, log_returns, cov_matrix, risk_free_rate)\n",
        "optimal_sharpe_ratio = sharpe_ratio(optimal_weights, log_returns, cov_matrix, risk_free_rate)\n",
        "\n",
        "print(f\"Expected Annual Return (Old): {old_portfolio_return:.4f}\")\n",
        "print(f\"Expected Annual Return: {optimal_portfolio_return:.4f}\")\n",
        "print(f\"Expected Volatility (Old): {old_portfolio_volatility:.4f}\")\n",
        "print(f\"Expected Volatility: {optimal_portfolio_volatility:.4f}\")\n",
        "print(f\"Sharpe Ratio (Old): {old_sharpe_ratio:.4f}\")\n",
        "print(f\"Sharpe Ratio: {optimal_sharpe_ratio:.4f}\")"
      ],
      "metadata": {
        "colab": {
          "base_uri": "https://localhost:8080/"
        },
        "id": "mILVy90VApAd",
        "outputId": "daaabc63-d8a7-482c-dcf8-9b08cd9e2a60"
      },
      "execution_count": 13,
      "outputs": [
        {
          "output_type": "stream",
          "name": "stdout",
          "text": [
            "Optimal Weights:\n",
            "AAL: 0.0000\n",
            "ABNB: 0.0000\n",
            "BRK-B: 1.0000\n",
            "BLK: 0.0000\n",
            "TTWO: 0.0000\n",
            "ILTB: 0.0000\n",
            "Expected Annual Return (Old): 0.1243\n",
            "Expected Annual Return: 0.2452\n",
            "Expected Volatility (Old): 0.2226\n",
            "Expected Volatility: 0.1837\n",
            "Sharpe Ratio (Old): 0.3605\n",
            "Sharpe Ratio: 1.0950\n"
          ]
        }
      ]
    },
    {
      "cell_type": "markdown",
      "source": [
        "## Display the Final Portfolio"
      ],
      "metadata": {
        "id": "KPK64YCSyLbO"
      }
    },
    {
      "cell_type": "code",
      "source": [
        "plt.figure(figsize=(10, 6))\n",
        "plt.bar(tickers, optimal_weights)\n",
        "\n",
        "plt.xlabel('Assets')\n",
        "plt.ylabel('Optimal Weights')\n",
        "plt.title('Optimal Portfolio Weights')\n",
        "\n",
        "plt.show()"
      ],
      "metadata": {
        "colab": {
          "base_uri": "https://localhost:8080/",
          "height": 564
        },
        "id": "pUt0l2RyArkh",
        "outputId": "1256b0de-a7e3-4112-edef-db7b07f78e15"
      },
      "execution_count": 14,
      "outputs": [
        {
          "output_type": "display_data",
          "data": {
            "text/plain": [
              "<Figure size 1000x600 with 1 Axes>"
            ],
            "image/png": "[encoded data removed]"
          },
          "metadata": {}
        }
      ]
    },
    {
      "cell_type": "code",
      "source": [
        "print(optimal_weights)"
      ],
      "metadata": {
        "colab": {
          "base_uri": "https://localhost:8080/"
        },
        "id": "glLfnW4wAxxR",
        "outputId": "9ce87368-c684-4df2-aa19-ed3b28206dc7"
      },
      "execution_count": 15,
      "outputs": [
        {
          "output_type": "stream",
          "name": "stdout",
          "text": [
            "[0.00000000e+00 0.00000000e+00 1.00000000e+00 0.00000000e+00\n",
            " 5.88418203e-15 0.00000000e+00]\n"
          ]
        }
      ]
    }
  ]
}